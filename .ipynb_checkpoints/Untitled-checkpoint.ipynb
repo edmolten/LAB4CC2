{
 "cells": [
  {
   "cell_type": "code",
   "execution_count": 74,
   "metadata": {
    "collapsed": false
   },
   "outputs": [],
   "source": [
    "import numpy as np\n",
    "from mpl_toolkits.mplot3d import Axes3D\n",
    "import matplotlib.pyplot as plt\n",
    "\n",
    "def pde_solver(h,k,T,c,f,g,period=False, a=0, b=0, l=0 ,r=0):\n",
    "    if period:\n",
    "        return periodic_pde_sovlver(h,k,T,c,f,g)\n",
    "    else:\n",
    "        if a == b == 1:\n",
    "            return dirichlet_pde_solver(h,k,T,c,f,g,l,r)\n",
    "        elif a == b == 0:\n",
    "            return neumann_pde_solver(h,k,T,c,f,g,l,r)\n",
    "        elif a == 1 and b == 0:\n",
    "            return mixed10_pde_solver(h,k,T,c,f,g,l,r)\n",
    "        elif a == 0 and b == 1:\n",
    "            return mixed01_pde_solver(h,k,T,c,f,g,l,r)\n",
    "        else:\n",
    "            return robin_pde_solver(h,k,T,c,f,g,a,b,l,r)\n",
    "        \n",
    "def dirichlet_pde_solver(h,k,T,c,f,g,l,r):\n",
    "    s = 1.0*c*k/h\n",
    "    if(c>1):\n",
    "        print \"inestable\"\n",
    "        return\n",
    "    xs = np.arange(-1,1+h,h)\n",
    "    ts = np.arange(0,T+k,k)\n",
    "    Nx_plus_1 = xs.shape[0]\n",
    "    Nt_plus_1 = ts.shape[0]\n",
    "    W = np.zeros((Nt_plus_1,Nx_plus_1))\n",
    "    vec1 = np.array([g(xi) for xi in xs[1:-1]])\n",
    "    vec2 = np.zeros(Nx_plus_1-2)\n",
    "    vec2[0] = l(ts[0])\n",
    "    vec2[-1] = r(ts[0])\n",
    "    cons_vec = k*vec1+(s**2)/2*vec2\n",
    "    w0 = np.array([f(xi) for xi in xs[1:-1]])\n",
    "    W[0,1:-1] = w0\n",
    "    A = np.zeros((Nx_plus_1-2,Nx_plus_1-2))\n",
    "    for i in range(Nx_plus_1-2):\n",
    "        if i == 0:\n",
    "            A[0,0] = 2-2*s**2\n",
    "            A[0,1] = s**2\n",
    "        elif i == Nx_plus_1-3:\n",
    "            A[i,i-1] = s**2\n",
    "            A[i,i] = 2-2*s**2\n",
    "        else:\n",
    "            A[i,i-1] = s**2\n",
    "            A[i,i] = 2-2*s**2\n",
    "            A[i,i+1] = s**2\n",
    "    W[:,0] = np.array([l(t) for t in ts])\n",
    "    W[:,-1] = np.array([r(t) for t in ts])\n",
    "    W[1,1:-1] = (1/2)*(np.dot(A,w0)) + cons_vec\n",
    "    for i in range(2,Nt_plus_1):\n",
    "        W[i,0] = l(ts[i])\n",
    "        W[i,-1] = r(ts[i])\n",
    "        vec = np.zeros(Nx_plus_1-2)\n",
    "        vec[0] = l(ts[i-1])\n",
    "        vec[-1] = r(ts[i-1])\n",
    "        wk_1 = W[i-1,1:-1]\n",
    "        wk_2 = W[i-2,1:-1]\n",
    "        W[i,1:-1] = np.dot(A,wk_1) - wk_2 + s**2*vec\n",
    "    return W,xs,ts\n",
    "\n",
    "def f(x):\n",
    "    return -(x+1)*(x-1)\n",
    "\n",
    "def g(x):\n",
    "    return -(x+1)*(x-1)\n",
    "\n",
    "def l(t):\n",
    "    return t\n",
    "\n",
    "def r(t):\n",
    "    return t\n",
    "\n",
    "def plot_discrete_PDE(xs,ts,W,z_lims):\n",
    "    fig = plt.figure()\n",
    "    ax = fig.gca(projection='3d')\n",
    "    X, T = np.meshgrid(xs, ts)\n",
    "    surf = ax.plot_surface(X, T, W, rstride=1, cstride=1, linewidth=0, antialiased=False)\n",
    "    ax.set_zlim(z_lims[0],z_lims[1])\n",
    "    plt.show()\n",
    "\n",
    "k = 0.2\n",
    "h = 0.2\n",
    "T = 3\n",
    "c = 1\n",
    "W,xs,ts = pde_solver(h,k,T,c,f,g,a=1, b=1, l=l ,r=r)\n",
    "plot_discrete_PDE(xs,ts,W,(-6,6))\n",
    "                "
   ]
  },
  {
   "cell_type": "code",
   "execution_count": 71,
   "metadata": {
    "collapsed": false,
    "scrolled": false
   },
   "outputs": [],
   "source": []
  },
  {
   "cell_type": "code",
   "execution_count": null,
   "metadata": {
    "collapsed": false
   },
   "outputs": [],
   "source": []
  },
  {
   "cell_type": "code",
   "execution_count": null,
   "metadata": {
    "collapsed": false
   },
   "outputs": [],
   "source": []
  },
  {
   "cell_type": "code",
   "execution_count": null,
   "metadata": {
    "collapsed": true
   },
   "outputs": [],
   "source": []
  }
 ],
 "metadata": {
  "kernelspec": {
   "display_name": "Python 2",
   "language": "python",
   "name": "python2"
  },
  "language_info": {
   "codemirror_mode": {
    "name": "ipython",
    "version": 2
   },
   "file_extension": ".py",
   "mimetype": "text/x-python",
   "name": "python",
   "nbconvert_exporter": "python",
   "pygments_lexer": "ipython2",
   "version": "2.7.10"
  }
 },
 "nbformat": 4,
 "nbformat_minor": 0
}
