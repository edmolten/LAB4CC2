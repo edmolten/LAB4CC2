{
 "cells": [
  {
   "cell_type": "code",
   "execution_count": 3,
   "metadata": {
    "collapsed": false
   },
   "outputs": [],
   "source": [
    "import numpy as np\n",
    "\n",
    "def pde_solver(h,k,T,c,f,g,period=False, a=0, b=0, l=0 ,r=0):\n",
    "    if period:\n",
    "        return periodic_pde_sovlver(h,k,T,c,f,g)\n",
    "    else:\n",
    "        if a == b == 1:\n",
    "            return dirichlet_pde_solver(h,k,T,c,f,g,l,r)\n",
    "        elif a == b == 0:\n",
    "            return neumann_pde_solver(h,k,T,c,f,g,l,r)\n",
    "        elif a == 1 and b == 0:\n",
    "            return mixed10_pde_solver(h,k,T,c,f,g,l,r)\n",
    "        elif a == 0 and b == 1:\n",
    "            return mixed01_pde_solver(h,k,T,c,f,g,l,r)\n",
    "        else:\n",
    "            return robin_pde_solver(h,k,T,c,f,g,a,b,l,r)\n",
    "        \n",
    "def dirichlet_pde_solver(h,k,T,c,f,g,l,r):\n",
    "    s = 1.0*c*k/h\n",
    "    if(c>1):\n",
    "        print \"inestable\"\n",
    "        return\n",
    "    xs = np.arange(-1,1+h,h)\n",
    "    ts = np.arange(0,T+k,k)\n",
    "    Nx_plus_1 = xs.shape[0]\n",
    "    Nt_plus_1 = ts.shape[0]\n",
    "    W = np.zeros((Nt_plus_1,Nx_plus_1))\n",
    "    vec1 = np.array([g(xi) for xi in xs[1:-1]])\n",
    "    vec2 = np.zeros(Nx_plus_1-2)\n",
    "    vec2[0] = l(ts[0])\n",
    "    W[0,0] = vec2[0]\n",
    "    vec2[-1] = r(ts[0])\n",
    "    W[0,Nx_plus_1-1] = vec2[-1]\n",
    "    cons_vec = k*vec1+s**2/2*vec2\n",
    "    w0 = np.array([f(xi) for xi in xs[1,-1]])\n",
    "    W[0,1:-1] = w0\n",
    "    A = np.zeros((Nx_plus_1-2,Nx_plus_1-2))\n",
    "    for i in range(Nx_plus_1-2):\n",
    "        if i == 0:\n",
    "            A[0,0] = 2-2*s**2\n",
    "            A[0,1] = s**2\n",
    "        elif i == Nx_plus_1-3:\n",
    "            A[i,i-1] = s**2\n",
    "            A[i,i] = 2-2*s**2\n",
    "        else:\n",
    "            A[i,i-1] = s**2\n",
    "            A[i,i] = 2-2*s**2\n",
    "            A[i,i+1] = s**2\n",
    "    W[0,:] = (1/2)*(np.dot(A,w0))+cons_vec\n",
    "    W[1,0] = l(ts[1])\n",
    "    W[1,-1] = r(ts[1])\n",
    "                "
   ]
  },
  {
   "cell_type": "code",
   "execution_count": 39,
   "metadata": {
    "collapsed": false
   },
   "outputs": [
    {
     "name": "stdout",
     "output_type": "stream",
     "text": [
      "[0 0 0]\n",
      "[[ 0.  0.  0.]\n",
      " [ 0.  0.  0.]\n",
      " [ 0.  0.  0.]]\n",
      "3\n",
      "[[  0.00000000e+00   0.00000000e+00   0.00000000e+00   0.00000000e+00\n",
      "    0.00000000e+00]\n",
      " [  5.00000000e-01   0.00000000e+00   0.00000000e+00   0.00000000e+00\n",
      "    5.00000000e-01]\n",
      " [  1.00000000e+00   2.00000000e-02   2.00000000e-02   0.00000000e+00\n",
      "    1.00000000e+00]\n",
      " [  1.50000000e+00   7.92000000e-02   7.92000000e-02   8.00000000e-04\n",
      "    1.50000000e+00]\n",
      " [  2.00000000e+00   1.95232000e-01   1.95264000e-01   4.70400000e-03\n",
      "    2.00000000e+00]\n",
      " [  2.50000000e+00   3.83456000e-01   3.83704320e-01   1.60422400e-02\n",
      "    2.50000000e+00]\n",
      " [  3.00000000e+00   6.56351693e-01   6.57428224e-01   4.14452736e-02\n",
      "    3.00000000e+00]]\n"
     ]
    }
   ],
   "source": [
    "def f(x):\n",
    "    return 0#-(x+1)*(x-1)\n",
    "\n",
    "def g(x):\n",
    "    return 0#-(x+1)*(x-1)\n",
    "\n",
    "def l(t):\n",
    "    return t\n",
    "\n",
    "def r(t):\n",
    "    return t\n",
    "\n",
    "k = 0.5\n",
    "h = 0.5\n",
    "T = 3\n",
    "c = 0.2\n",
    "s = 1.0*c*k/h\n",
    "if(c>1):\n",
    "    print \"inestable\"\n",
    "xs = np.arange(-1,1+h,h)\n",
    "ts = np.arange(0,T+k,k)\n",
    "Nx_plus_1 = xs.shape[0]\n",
    "Nt_plus_1 = ts.shape[0]\n",
    "W = np.zeros((Nt_plus_1,Nx_plus_1))\n",
    "vec1 = np.array([g(xi) for xi in xs[1:-1]])\n",
    "vec2 = np.zeros(Nx_plus_1-2)\n",
    "vec2[0] = l(ts[0])\n",
    "W[0,0] = vec2[0]\n",
    "vec2[-1] = r(ts[0])\n",
    "W[0,Nx_plus_1-1] = vec2[-1]\n",
    "cons_vec = k*vec1+s**2/2*vec2\n",
    "w0 = np.array([f(xi) for xi in xs[1:-1]])\n",
    "W[0,1:-1] = w0\n",
    "A = np.zeros((Nx_plus_1-2,Nx_plus_1-2))\n",
    "print w0\n",
    "print A\n",
    "print Nx_plus_1-2\n",
    "for i in range(Nx_plus_1-2):\n",
    "    if i == 0:\n",
    "        A[0,0] = 2-2*s**2\n",
    "        A[0,1] = s**2\n",
    "    elif i == Nx_plus_1-3:\n",
    "        A[i,i-1] = s**2\n",
    "        A[i,i] = 2-2*s**2\n",
    "    else:\n",
    "        A[i,i-1] = s**2\n",
    "        A[i,i] = 2-2*s**2\n",
    "        A[i,i+1] = s**2\n",
    "W[1,1:-1] = (1/2)*(np.dot(A,w0)) + cons_vec\n",
    "W[1,0] = l(ts[1])\n",
    "W[1,-1] = r(ts[1])\n",
    "for i in range(2,Nt_plus_1):\n",
    "    W[i,0] = l(ts[i])\n",
    "    W[i,-1] = r(ts[i])\n",
    "    vec = np.zeros(Nx_plus_1-2)\n",
    "    vec[0] = l(ts[i-1])\n",
    "    vec[1] = r(ts[i-1])\n",
    "    wk_1 = W[i-1,1:-1]\n",
    "    wk_2 = W[i-2,1:-1]\n",
    "    W[i,1:-1] = np.dot(A,wk_1) - wk_2 + s**2*vec\n",
    "print W\n",
    "    \n"
   ]
  },
  {
   "cell_type": "code",
   "execution_count": 5,
   "metadata": {
    "collapsed": false
   },
   "outputs": [
    {
     "data": {
      "text/plain": [
       "array([-1.        , -0.86666667, -0.73333333, -0.6       , -0.46666667,\n",
       "       -0.33333333, -0.2       , -0.06666667,  0.06666667,  0.2       ,\n",
       "        0.33333333,  0.46666667,  0.6       ,  0.73333333,  0.86666667,  1.        ])"
      ]
     },
     "execution_count": 5,
     "metadata": {},
     "output_type": "execute_result"
    }
   ],
   "source": [
    "h =  2.0/(16-1)\n",
    "np.arange(-1,1+h,h)#[1:-1]"
   ]
  },
  {
   "cell_type": "code",
   "execution_count": 43,
   "metadata": {
    "collapsed": false
   },
   "outputs": [
    {
     "ename": "UnestableMethod",
     "evalue": "asd",
     "output_type": "error",
     "traceback": [
      "\u001b[1;31m---------------------------------------------------------------------------\u001b[0m",
      "\u001b[1;31mUnestableMethod\u001b[0m                           Traceback (most recent call last)",
      "\u001b[1;32m<ipython-input-43-5d3a6e410031>\u001b[0m in \u001b[0;36m<module>\u001b[1;34m()\u001b[0m\n\u001b[0;32m      2\u001b[0m     \u001b[1;32mpass\u001b[0m\u001b[1;33m\u001b[0m\u001b[0m\n\u001b[0;32m      3\u001b[0m \u001b[1;33m\u001b[0m\u001b[0m\n\u001b[1;32m----> 4\u001b[1;33m \u001b[1;32mraise\u001b[0m \u001b[0mUnestableMethod\u001b[0m\u001b[1;33m(\u001b[0m\u001b[1;34m\"asd\"\u001b[0m\u001b[1;33m)\u001b[0m\u001b[1;33m\u001b[0m\u001b[0m\n\u001b[0m",
      "\u001b[1;31mUnestableMethod\u001b[0m: asd"
     ]
    }
   ],
   "source": [
    "class UnestableMethod(Exception):\n",
    "    pass\n",
    "\n",
    "raise UnestableMethod(\"asd\")"
   ]
  },
  {
   "cell_type": "code",
   "execution_count": null,
   "metadata": {
    "collapsed": true
   },
   "outputs": [],
   "source": []
  }
 ],
 "metadata": {
  "kernelspec": {
   "display_name": "Python 2",
   "language": "python",
   "name": "python2"
  },
  "language_info": {
   "codemirror_mode": {
    "name": "ipython",
    "version": 2
   },
   "file_extension": ".py",
   "mimetype": "text/x-python",
   "name": "python",
   "nbconvert_exporter": "python",
   "pygments_lexer": "ipython2",
   "version": "2.7.10"
  }
 },
 "nbformat": 4,
 "nbformat_minor": 0
}
