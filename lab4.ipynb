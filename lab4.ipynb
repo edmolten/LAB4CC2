{
 "cells": [
  {
   "cell_type": "code",
   "execution_count": 78,
   "metadata": {
    "collapsed": false,
    "scrolled": false
   },
   "outputs": [],
   "source": [
    "import numpy as np\n",
    "from mpl_toolkits.mplot3d import Axes3D\n",
    "import matplotlib.pyplot as plt\n",
    "\n",
    "def plot_discrete_PDE(xs,ts,W,z_lims):\n",
    "    '''\n",
    "    Grafica en 3D la malla W en los puntos dados por xs,ts. Los limites en z los da la tupla z_lims\n",
    "    '''\n",
    "    fig = plt.figure()\n",
    "    ax = fig.gca(projection='3d')\n",
    "    X, T = np.meshgrid(xs, ts)\n",
    "    surf = ax.plot_surface(X, T, W, rstride=1, cstride=1, linewidth=0, antialiased=False)\n",
    "    ax.set_zlim(z_lims[0],z_lims[1])\n",
    "    plt.show()\n",
    "    \n",
    "def pde_solver(h,k,T,c,f,g,period=False, a=0, b=0, l=0 ,r=0):\n",
    "    '''\n",
    "    Retorna una tupla con la malla de soluciones de la ecuación de onda, los puntos x y los puntos t usados.\n",
    "    Los parametros estan definidos en el enunciado\n",
    "    '''\n",
    "    if period:\n",
    "        return periodic_pde_sovlver(h,k,T,c,f,g)\n",
    "    else:\n",
    "        if a == b == 1:\n",
    "            return dirichlet_pde_solver(h,k,T,c,f,g,l,r)\n",
    "        elif a == b == 0:\n",
    "            return neumann_pde_solver(h,k,T,c,f,g,l,r)\n",
    "        elif a == 1 and b == 0:\n",
    "            return mixed10_pde_solver(h,k,T,c,f,g,l,r)\n",
    "        elif a == 0 and b == 1:\n",
    "            return mixed01_pde_solver(h,k,T,c,f,g,l,r)\n",
    "        else:\n",
    "            return robin_pde_solver(h,k,T,c,f,g,a,b,l,r)\n",
    "   \n",
    "def initializer(h,k,T,c,f,g,l,r):\n",
    "    '''\n",
    "    Retorna una tupla con la matriz de soluciones aproximadas inicializada (con \n",
    "    las soluciones en el instante inicial y el segundo instante sin bordes ),\n",
    "    el conjunto de puntos en x, el conjunto de puntos en t, sigma, A y las cantidades de puntos Nx_plus_1 y Nt_plus_1\n",
    "    '''\n",
    "    s = 1.0*c*k/h\n",
    "    if(s>1):\n",
    "        raise Exception(\"Inestable\")\n",
    "    xs = np.arange(-1,1+h,h)\n",
    "    if(xs[-1]>1):\n",
    "        xs = xs[:-1]\n",
    "    ts = np.arange(0,T+k,k)\n",
    "    if(ts[-1]>T):\n",
    "        ts = ts[:-1]\n",
    "    print x\n",
    "    print ts\n",
    "    Nx_plus_1 = xs.shape[0]\n",
    "    Nt_plus_1 = ts.shape[0]\n",
    "    W = np.zeros((Nt_plus_1,Nx_plus_1))\n",
    "    vec1 = np.array([g(xi) for xi in xs[1:-1]])\n",
    "    vec2 = np.zeros(Nx_plus_1-2)\n",
    "    vec2[0] = l(ts[0])\n",
    "    vec2[-1] = r(ts[0])\n",
    "    cons_vec = k*vec1+((s**2)/2)*vec2\n",
    "    w0 = np.array([f(xi) for xi in xs[1:-1]])\n",
    "    W[0,1:-1] = w0\n",
    "    A = np.zeros((Nx_plus_1-2,Nx_plus_1-2))\n",
    "    for i in range(Nx_plus_1-2):\n",
    "        if i == 0:\n",
    "            A[0,0] = 2-2*s**2\n",
    "            A[0,1] = s**2\n",
    "        elif i == Nx_plus_1-3:\n",
    "            A[i,i-1] = s**2\n",
    "            A[i,i] = 2-2*s**2\n",
    "        else:\n",
    "            A[i,i-1] = s**2\n",
    "            A[i,i] = 2-2*s**2\n",
    "            A[i,i+1] = s**2\n",
    "    W[1,1:-1] = (1/2)*(np.dot(A,w0)) + cons_vec\n",
    "    return W,xs,ts,s,A,Nx_plus_1,Nt_plus_1\n",
    "    \n",
    "def dirichlet_pde_solver(h,k,T,c,f,g,l,r):\n",
    "    W,xs,ts,s,A,Nx_plus_1,Nt_plus_1 = initializer(h,k,T,c,f,g,l,r)\n",
    "    W[:,0] = np.array([l(t) for t in ts])\n",
    "    W[:,-1] = np.array([r(t) for t in ts])\n",
    "    for i in range(2,Nt_plus_1):\n",
    "        vec = np.zeros(Nx_plus_1-2)\n",
    "        vec[0] = l(ts[i-1])\n",
    "        vec[-1] = r(ts[i-1])\n",
    "        wk_1 = W[i-1,1:-1]\n",
    "        wk_2 = W[i-2,1:-1]\n",
    "        W[i,1:-1] = np.dot(A,wk_1) - wk_2 + s**2*vec\n",
    "    return W,xs,ts\n",
    "                \n",
    "def evaluated_interpolation_constants(xs):\n",
    "    '''\n",
    "    Retorna 6 valores usados en la interpolación polinomial de los tres primeros y ultimos\n",
    "    puntos del dominio espacial del problema, para cada instante.\n",
    "    L'(-1) = l1 * w_0,k + l2 * w1,k + l3 * w_2,k\n",
    "    L'(1) =  l4 * w_Nx-2,k + l5 * w_Nx-1,k + l6 * w_Nx,k\n",
    "    Estos valores son usados para despejar posteriormente los valores de la funcion en la frontera\n",
    "    '''\n",
    "    x1 = xs[1]\n",
    "    x2 = xs[2]\n",
    "    l1 = (-2-x1-x2)/((-1-x1)*(-1-x2))\n",
    "    l2 = (-1-x2)/((x1+1)*(x1-x2))\n",
    "    l3 = (-1-x1)/((x2+1)*(x2-x1))\n",
    "    xNx_1 = xs[-2]\n",
    "    xNx_2 = xs[-3]\n",
    "    l4 = (2-xNx_2-xNx_1)/((1-xNx_2)*(1-xNx_1))\n",
    "    l5 = (1-xNx_2)/((xNx_1-xNx_2)*(xNx_1-1))\n",
    "    l6 = (1-xNx_1)/((xNx_2-xNx_1)*(xNx_2-1))\n",
    "    return l1,l2,l3,l4,l5,l6\n",
    "    \n",
    "    \n",
    "def neumann_pde_solver(h,k,T,c,f,g,l,r):\n",
    "    W,xs,ts,s,A,Nx_plus_1,Nt_plus_1 = initializer(h,k,T,c,f,g,l,r)\n",
    "    l1,l2,l3,l4,l5,l6 = evaluated_interpolation_constants(xs)\n",
    "    for i in range(2,Nt_plus_1):\n",
    "        vec = np.zeros(Nx_plus_1-2)\n",
    "        vec[0] = l(ts[i-1])\n",
    "        vec[-1] = r(ts[i-1])\n",
    "        wk_1 = W[i-1,1:-1]\n",
    "        wk_2 = W[i-2,1:-1]\n",
    "        W[i,1:-1] = np.dot(A,wk_1) - wk_2 + s**2*vec\n",
    "        ltk = l(ts[i])\n",
    "        W[i,0]  = (1/l1)*(ltk - W[i,1]*l2 - W[i,2]*l3)\n",
    "        rtk = r(ts[i])\n",
    "        W[i,-1] = (1/l4)*(rtk - W[i,-2]*l5 - W[i,-3]*l6) \n",
    "    return W,xs,ts\n",
    "\n",
    "def robin_pde_solver(h,k,T,c,f,g,a,b,l,r):\n",
    "    W,xs,ts,s,A,Nx_plus_1,Nt_plus_1 = initializer(h,k,T,c,f,g,l,r)\n",
    "    l1,l2,l3,l4,l5,l6 = evaluated_interpolation_constants(xs)\n",
    "    for i in range(2,Nt_plus_1):\n",
    "        vec = np.zeros(Nx_plus_1-2)\n",
    "        vec[0] = l(ts[i-1])\n",
    "        vec[-1] = r(ts[i-1])\n",
    "        wk_1 = W[i-1,1:-1]\n",
    "        wk_2 = W[i-2,1:-1]\n",
    "        W[i,1:-1] = np.dot(A,wk_1) - wk_2 + s**2*vec\n",
    "        ltk = l(ts[i])\n",
    "        W[i,0]  = (ltk - (1-a)*(W[i,1]*l2 - W[i,2]*l3))/(a+(1-a)*l1)\n",
    "        rtk = r(ts[i])\n",
    "        W[i,-1] = (rtk - (1-b)*(W[i,-3]*l4 - W[i,-2]*l5))/(b+(1-b)*l6)\n",
    "    return W,xs,ts"
   ]
  },
  {
   "cell_type": "code",
   "execution_count": 77,
   "metadata": {
    "collapsed": false,
    "scrolled": false
   },
   "outputs": [
    {
     "data": {
      "text/plain": [
       "array([1, 2])"
      ]
     },
     "execution_count": 77,
     "metadata": {},
     "output_type": "execute_result"
    }
   ],
   "source": [
    "np.array([1,2,3])[:-1]"
   ]
  },
  {
   "cell_type": "markdown",
   "metadata": {
    "collapsed": false
   },
   "source": [
    "2.- "
   ]
  },
  {
   "cell_type": "code",
   "execution_count": 80,
   "metadata": {
    "collapsed": false
   },
   "outputs": [
    {
     "name": "stdout",
     "output_type": "stream",
     "text": [
      "[-1.         -0.77777778 -0.55555556 -0.33333333 -0.11111111  0.11111111\n",
      "  0.33333333  0.55555556  0.77777778  1.        ]\n",
      "[  0.           0.20408163   0.40816327   0.6122449    0.81632653\n",
      "   1.02040816   1.2244898    1.42857143   1.63265306   1.83673469\n",
      "   2.04081633   2.24489796   2.44897959   2.65306122   2.85714286\n",
      "   3.06122449   3.26530612   3.46938776   3.67346939   3.87755102\n",
      "   4.08163265   4.28571429   4.48979592   4.69387755   4.89795918\n",
      "   5.10204082   5.30612245   5.51020408   5.71428571   5.91836735\n",
      "   6.12244898   6.32653061   6.53061224   6.73469388   6.93877551\n",
      "   7.14285714   7.34693878   7.55102041   7.75510204   7.95918367\n",
      "   8.16326531   8.36734694   8.57142857   8.7755102    8.97959184\n",
      "   9.18367347   9.3877551    9.59183673   9.79591837  10.        ]\n",
      "[-1.         -0.77777778 -0.55555556 -0.33333333 -0.11111111  0.11111111\n",
      "  0.33333333  0.55555556  0.77777778  1.        ]\n",
      "[  0.           0.20408163   0.40816327   0.6122449    0.81632653\n",
      "   1.02040816   1.2244898    1.42857143   1.63265306   1.83673469\n",
      "   2.04081633   2.24489796   2.44897959   2.65306122   2.85714286\n",
      "   3.06122449   3.26530612   3.46938776   3.67346939   3.87755102\n",
      "   4.08163265   4.28571429   4.48979592   4.69387755   4.89795918\n",
      "   5.10204082   5.30612245   5.51020408   5.71428571   5.91836735\n",
      "   6.12244898   6.32653061   6.53061224   6.73469388   6.93877551\n",
      "   7.14285714   7.34693878   7.55102041   7.75510204   7.95918367\n",
      "   8.16326531   8.36734694   8.57142857   8.7755102    8.97959184\n",
      "   9.18367347   9.3877551    9.59183673   9.79591837  10.        ]\n",
      "500\n"
     ]
    }
   ],
   "source": [
    "T = 10.0\n",
    "c = 1\n",
    "k = T/49\n",
    "h = 2.0/9\n",
    "\n",
    "def f(x):\n",
    "    return 100*np.sin(x**2)\n",
    "\n",
    "def g(x):\n",
    "    return 200*x*np.cos(x**2)\n",
    "\n",
    "def l(t):\n",
    "    return 0\n",
    "\n",
    "def r(t):\n",
    "    return 0\n",
    "W,xs,ts = pde_solver(h,k,T,c,f,g,a=1, b=1, l=l ,r=r)\n",
    "plot_discrete_PDE(xs,ts,W,(-300,300))\n",
    "'''\n",
    "T = 10.0\n",
    "c = 1\n",
    "k = T/100\n",
    "h = 2.0/10\n",
    "'''\n",
    "W,xs,ts = pde_solver(h,k,T,c,f,g,a=0, b=0, l=l ,r=r)\n",
    "plot_discrete_PDE(xs,ts,W,(-300,300))\n",
    "print W.size"
   ]
  },
  {
   "cell_type": "code",
   "execution_count": null,
   "metadata": {
    "collapsed": true
   },
   "outputs": [],
   "source": []
  },
  {
   "cell_type": "code",
   "execution_count": null,
   "metadata": {
    "collapsed": true
   },
   "outputs": [],
   "source": []
  }
 ],
 "metadata": {
  "kernelspec": {
   "display_name": "Python 2",
   "language": "python",
   "name": "python2"
  },
  "language_info": {
   "codemirror_mode": {
    "name": "ipython",
    "version": 2
   },
   "file_extension": ".py",
   "mimetype": "text/x-python",
   "name": "python",
   "nbconvert_exporter": "python",
   "pygments_lexer": "ipython2",
   "version": "2.7.10"
  }
 },
 "nbformat": 4,
 "nbformat_minor": 0
}
